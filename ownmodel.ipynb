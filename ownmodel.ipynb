{
 "metadata": {
  "language_info": {
   "codemirror_mode": {
    "name": "ipython",
    "version": 3
   },
   "file_extension": ".py",
   "mimetype": "text/x-python",
   "name": "python",
   "nbconvert_exporter": "python",
   "pygments_lexer": "ipython3",
   "version": "3.8.8"
  },
  "orig_nbformat": 2,
  "kernelspec": {
   "name": "python388jvsc74a57bd0533515e4cacb4b19dd591fe0dc27555734188e0a9624ed1e79da16cf07966a76",
   "display_name": "Python 3.8.8 64-bit ('TensorFlowArt-VJy278p0': pipenv)"
  }
 },
 "nbformat": 4,
 "nbformat_minor": 2,
 "cells": [
  {
   "cell_type": "code",
   "execution_count": 1,
   "metadata": {},
   "outputs": [],
   "source": [
    "import tensorflow as tf \n",
    "import IPython.display as display\n",
    "\n",
    "import matplotlib.pyplot as plt \n",
    "import matplotlib as mpl \n",
    "mpl.rcParams['figure.figsize'] = (12,12)\n",
    "mpl.rcParams['axes.grid'] = False\n",
    "\n",
    "import numpy as np \n",
    "import PIL.Image\n",
    "import time\n",
    "import functools\n",
    "\n",
    "def tensor_to_image(tf_input):\n",
    "    tf_input = tf_input*255\n",
    "    tf_input = np.array(tf_input, dtype=np.uint8)\n",
    "    if np.ndim(tf_input)>3:\n",
    "        assert tf_input.shape[0] == 1\n",
    "        tf_input = tf_input[0]\n",
    "    return PIL.Image.fromarray(tf_input)"
   ]
  },
  {
   "cell_type": "code",
   "execution_count": 2,
   "metadata": {},
   "outputs": [],
   "source": [
    "def load_img(image_path):\n",
    "    max_dim = 512\n",
    "    img = tf.io.read_file(image_path)\n",
    "    img = tf.image.decode_image(img, channels=3) # Detects the image to perform appropriate operations\n",
    "    img = tf.image.convert_image_dtype(img, tf.float32) #converts image to tensor dtype\n",
    "\n",
    "    shape = tf.cast(tf.shape(img)[:-1], tf.float32) # Casts a Tensor to float 32\n",
    "\n",
    "    long_dim = max(shape)\n",
    "    scale = max_dim / long_dim\n",
    "\n",
    "    new_shape = tf.cast(shape * scale, tf.int32)\n",
    "\n",
    "    img = tf.image.resize(img, new_shape)\n",
    "\n",
    "    return img[tf.newaxis, :]"
   ]
  },
  {
   "cell_type": "code",
   "execution_count": 3,
   "metadata": {},
   "outputs": [],
   "source": [
    "def imshow(image, title=None):\n",
    "    if len(image.shape) > 3:\n",
    "        image = tf.squeeze(image, axis=0)\n",
    "\n",
    "    plt.imshow(image)\n",
    "    if title:\n",
    "        plt.title(title)"
   ]
  },
  {
   "cell_type": "code",
   "execution_count": null,
   "metadata": {},
   "outputs": [],
   "source": [
    "def gram_matrix(x):\n",
    "    x = tf.transpose(x, (2, 0, 1))\n",
    "    features = tf.reshape(x, (tf.shape(x[0], -1))\n",
    "    gram = tf.matmul(features, tf.transpose(features))\n",
    "    return gram\n",
    "\n",
    "\n",
    "def style_loss(style, combination): \n",
    "    S = gram_matrix(style)\n",
    "    C = gram_matrix(combination)\n",
    "    channels = 3\n",
    "    size = img_n"
   ]
  }
 ]
}